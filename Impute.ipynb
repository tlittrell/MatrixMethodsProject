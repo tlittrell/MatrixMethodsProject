{
 "cells": [
  {
   "cell_type": "code",
   "execution_count": 5,
   "metadata": {},
   "outputs": [],
   "source": [
    "import pandas as pd\n",
    "import numpy as np"
   ]
  },
  {
   "cell_type": "markdown",
   "metadata": {},
   "source": [
    "## Read in and process data"
   ]
  },
  {
   "cell_type": "code",
   "execution_count": 65,
   "metadata": {},
   "outputs": [],
   "source": [
    "census = pd.read_csv(\"/Users/thomaslittrell/Dropbox (MIT)/18.0651 Project Data/census_income.data\")"
   ]
  },
  {
   "cell_type": "code",
   "execution_count": 60,
   "metadata": {},
   "outputs": [],
   "source": [
    "def random_indices_remove(n,p,num):\n",
    "    return([(np.random.randint(low = 0, high = n),np.random.randint(low = 0, high = p)) for i in range(num)])\n",
    "\n",
    "def data_frame_parameters(df,per_missing):\n",
    "    n,p = df.shape\n",
    "    num_to_remove = int(np.floor(per_missing * n * p))\n",
    "    return(n,p,num_to_remove)\n",
    "\n",
    "def process_data(df, per_missing):\n",
    "    \n",
    "    if per_missing > 1 or per_missing < 0:\n",
    "        raise(ValueError(\"Percent missing but be between 0 and 1\"))\n",
    "    \n",
    "    result_df = df.copy()\n",
    "    \n",
    "    n,p,num_to_remove = data_frame_parameters(df, per_missing)\n",
    "    indices = random_indices_remove(n,p,num_to_remove)\n",
    "    \n",
    "    removed_vals = {(i,j):df.iloc[i,j] for (i,j) in indices}\n",
    "    for (i,j) in indices:\n",
    "        result_df.iloc[i,j] = np.nan\n",
    "    return({\"result_df\":result_df, \"removed_vals\":removed_vals})"
   ]
  },
  {
   "cell_type": "code",
   "execution_count": 79,
   "metadata": {},
   "outputs": [],
   "source": [
    "result = process_data(census,0.00001)"
   ]
  },
  {
   "cell_type": "code",
   "execution_count": 80,
   "metadata": {},
   "outputs": [
    {
     "data": {
      "text/plain": [
       "{(4488, 7): ' Not-in-family',\n",
       " (6178, 13): ' United-States',\n",
       " (7910, 5): ' Married-civ-spouse',\n",
       " (31002, 1): ' Private'}"
      ]
     },
     "execution_count": 80,
     "metadata": {},
     "output_type": "execute_result"
    }
   ],
   "source": [
    "result[\"removed_vals\"]"
   ]
  },
  {
   "cell_type": "code",
   "execution_count": 90,
   "metadata": {},
   "outputs": [
    {
     "data": {
      "text/plain": [
       "' United-States'"
      ]
     },
     "execution_count": 90,
     "metadata": {},
     "output_type": "execute_result"
    }
   ],
   "source": [
    "census.iloc[list(result[\"removed_vals\"].keys())[0]]"
   ]
  },
  {
   "cell_type": "code",
   "execution_count": 89,
   "metadata": {},
   "outputs": [
    {
     "data": {
      "text/plain": [
       "nan"
      ]
     },
     "execution_count": 89,
     "metadata": {},
     "output_type": "execute_result"
    }
   ],
   "source": [
    "result[\"result_df\"].iloc[list(result[\"removed_vals\"].keys())[0]]"
   ]
  }
 ],
 "metadata": {
  "kernelspec": {
   "display_name": "Python 3",
   "language": "python",
   "name": "python3"
  },
  "language_info": {
   "codemirror_mode": {
    "name": "ipython",
    "version": 3
   },
   "file_extension": ".py",
   "mimetype": "text/x-python",
   "name": "python",
   "nbconvert_exporter": "python",
   "pygments_lexer": "ipython3",
   "version": "3.6.0"
  }
 },
 "nbformat": 4,
 "nbformat_minor": 2
}
